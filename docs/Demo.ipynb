{
 "cells": [
  {
   "cell_type": "markdown",
   "metadata": {},
   "source": [
    "# How To Search for QPOs with BayesPSD\n",
    "\n",
    "This notebook is a demonstration for how to use the code in this package\n",
    "to search for quasi-periodic oscillations (QPOs) in X-ray data of bursts.\n",
    "\n",
    "This code requires\n",
    "* python 2.7 or later (not really tested with python 3)\n",
    "* numpy\n",
    "* scipy\n",
    "* matplotlib\n",
    "\n",
    "Recommended\n",
    "* emcee (https://github.com/dfm/emcee)\n",
    "* acor (https://github.com/dfm/acor)\n",
    "* statsmodels (https://github.com/statsmodels/statsmodels; only for using crazy minimization algorithms that don't return the inverse covariance)\n",
    "\n",
    "## Basics\n",
    "\n",
    "The module contains both the code to do Bayesian inference on bursty time series, as well \n",
    "as some basic class definitions that are useful for time series analysis in general, and for\n",
    "*Fermi*/GBM data in particular.\n",
    "\n",
    "Let's start with a simple time series in a data file. This is \n",
    "\n",
    "\n",
    "\n"
   ]
  },
  {
   "cell_type": "code",
   "execution_count": null,
   "metadata": {
    "collapsed": true
   },
   "outputs": [],
   "source": []
  }
 ],
 "metadata": {
  "kernelspec": {
   "display_name": "Python 2",
   "language": "python",
   "name": "python2"
  },
  "language_info": {
   "codemirror_mode": {
    "name": "ipython",
    "version": 2
   },
   "file_extension": ".py",
   "mimetype": "text/x-python",
   "name": "python",
   "nbconvert_exporter": "python",
   "pygments_lexer": "ipython2",
   "version": "2.7.10"
  }
 },
 "nbformat": 4,
 "nbformat_minor": 0
}
