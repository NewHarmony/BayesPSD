{
 "cells": [
  {
   "cell_type": "markdown",
   "metadata": {},
   "source": [
    "# How To Search for QPOs with BayesPSD\n",
    "\n",
    "This notebook is a demonstration for how to use the code in this package\n",
    "to search for quasi-periodic oscillations (QPOs) in X-ray data of bursts.\n",
    "\n",
    "This code requires\n",
    "* python 2.7 or later (not really tested with python 3)\n",
    "* numpy\n",
    "* scipy\n",
    "* matplotlib\n",
    "\n",
    "Recommended\n",
    "* emcee (https://github.com/dfm/emcee)\n",
    "* acor (https://github.com/dfm/acor)\n",
    "* statsmodels (https://github.com/statsmodels/statsmodels; only for using crazy minimization algorithms that don't return the inverse covariance)\n",
    "* seaborn for making pretty plots (http://stanford.edu/~mwaskom/software/seaborn/)\n",
    "\n",
    "## Basics\n",
    "\n",
    "The module contains both the code to do Bayesian inference on bursty time series, as well \n",
    "as some basic class definitions that are useful for time series analysis in general, and for\n",
    "*Fermi*/GBM data in particular.\n",
    "\n",
    "Let's start with a simple time series in a data file. This is actually a magnetar bursts from \n",
    "a source called SGR J1550-5418, but that's not important right now. \n",
    "I've made things easy for you here: the data are individual photon events and energies only from \n",
    "the part of the observation where the burst was observed. We'll have a look at more complicated \n",
    "data and how to automate the steps outlined below later.\n",
    "\n",
    "For now, let's import some code and load the time series.\n",
    "\n"
   ]
  },
  {
   "cell_type": "code",
   "execution_count": 1,
   "metadata": {
    "collapsed": true
   },
   "outputs": [],
   "source": [
    "%matplotlib inline\n",
    "import matplotlib.pyplot as plt\n",
    "\n",
    "## this is just to make plots prettier\n",
    "## comment out if you don't have seaborn\n",
    "import seaborn as sns \n",
    "sns.set()\n",
    "########################################\n",
    "\n",
    "import numpy as np\n"
   ]
  },
  {
   "cell_type": "markdown",
   "metadata": {
    "collapsed": false
   },
   "source": [
    "**NOTE**: You need to have the directory where you saved the BayesPSD code in your `PYTHONPATH` variable for the following to work! If you haven't set your variable externally, you can do it in the following way:\n"
   ]
  },
  {
   "cell_type": "code",
   "execution_count": 3,
   "metadata": {
    "collapsed": false
   },
   "outputs": [],
   "source": [
    "import sys\n",
    "sys.path.append(\"/Users/danielahuppenkothen/work/repositories/\")"
   ]
  },
  {
   "cell_type": "markdown",
   "metadata": {},
   "source": [
    "Be aware that you need to replace the directory structure with your own, and that you need to add the path to the directory in which the BayesPSD folder is located. In my case, that's in my `repositories` folder in my work directory on my home folder, but it will be different for you!\n",
    "Also, when importing below, `bayespsd` needs to be written exactly as the name of the folder (it's case sensitive!). \n",
    "\n",
    "Now we can import functions and classes from that package:"
   ]
  },
  {
   "cell_type": "code",
   "execution_count": 6,
   "metadata": {
    "collapsed": false
   },
   "outputs": [],
   "source": [
    "from BayesPSD import Lightcurve, PowerSpectrum"
   ]
  },
  {
   "cell_type": "markdown",
   "metadata": {},
   "source": [
    "The data are saved in a simple text file:"
   ]
  },
  {
   "cell_type": "code",
   "execution_count": null,
   "metadata": {
    "collapsed": true
   },
   "outputs": [],
   "source": [
    "## the directory where we've stored the data\n",
    "datadir = \"../data/\" \n",
    "\n",
    "data = "
   ]
  },
  {
   "cell_type": "code",
   "execution_count": null,
   "metadata": {
    "collapsed": true
   },
   "outputs": [],
   "source": []
  },
  {
   "cell_type": "code",
   "execution_count": null,
   "metadata": {
    "collapsed": true
   },
   "outputs": [],
   "source": []
  },
  {
   "cell_type": "code",
   "execution_count": null,
   "metadata": {
    "collapsed": true
   },
   "outputs": [],
   "source": []
  }
 ],
 "metadata": {
  "kernelspec": {
   "display_name": "Python 2",
   "language": "python",
   "name": "python2"
  },
  "language_info": {
   "codemirror_mode": {
    "name": "ipython",
    "version": 2
   },
   "file_extension": ".py",
   "mimetype": "text/x-python",
   "name": "python",
   "nbconvert_exporter": "python",
   "pygments_lexer": "ipython2",
   "version": "2.7.10"
  }
 },
 "nbformat": 4,
 "nbformat_minor": 0
}
