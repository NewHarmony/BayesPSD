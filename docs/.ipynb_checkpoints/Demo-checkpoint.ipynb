{
 "cells": [
  {
   "cell_type": "markdown",
   "metadata": {},
   "source": [
    "# How To Search for QPOs with BayesPSD\n",
    "\n",
    "This notebook is a demonstration for how to use the code in this package\n",
    "to search for quasi-periodic oscillations (QPOs) in X-ray data of bursts.\n",
    "\n",
    "This code requires\n",
    "* python 2.7 or later (not really tested with python 3)\n",
    "* numpy\n",
    "* scipy\n",
    "* matplotlib\n",
    "\n",
    "Recommended\n",
    "* emcee (https://github.com/dfm/emcee)\n",
    "* acor (https://github.com/dfm/acor)\n",
    "* statsmodels (https://github.com/statsmodels/statsmodels; only for using crazy minimization algorithms that don't return the inverse covariance)\n",
    "* seaborn for making pretty plots (http://stanford.edu/~mwaskom/software/seaborn/)\n",
    "\n",
    "## Basics\n",
    "\n",
    "The module contains both the code to do Bayesian inference on bursty time series, as well \n",
    "as some basic class definitions that are useful for time series analysis in general, and for\n",
    "*Fermi*/GBM data in particular.\n",
    "\n",
    "Let's start with a simple time series in a data file. This is actually a magnetar bursts from \n",
    "a source called SGR J1550-5418, but that's not important right now. \n",
    "I've made things easy for you here: the data are individual photon events and energies only from \n",
    "the part of the observation where the burst was observed. We'll have a look at more complicated \n",
    "data and how to automate the steps outlined below later.\n",
    "\n",
    "For now, let's import some code and load the time series.\n",
    "\n"
   ]
  },
  {
   "cell_type": "code",
   "execution_count": 1,
   "metadata": {
    "collapsed": false
   },
   "outputs": [
    {
     "ename": "ImportError",
     "evalue": "No module named bayespsd",
     "output_type": "error",
     "traceback": [
      "\u001b[0;31m---------------------------------------------------------------------------\u001b[0m",
      "\u001b[0;31mImportError\u001b[0m                               Traceback (most recent call last)",
      "\u001b[0;32m<ipython-input-1-a8264393ee9e>\u001b[0m in \u001b[0;36m<module>\u001b[0;34m()\u001b[0m\n\u001b[1;32m     11\u001b[0m \u001b[0;34m\u001b[0m\u001b[0m\n\u001b[1;32m     12\u001b[0m \u001b[0;31m## this imports the relevant classes from the module\u001b[0m\u001b[0;34m\u001b[0m\u001b[0;34m\u001b[0m\u001b[0m\n\u001b[0;32m---> 13\u001b[0;31m \u001b[0;32mfrom\u001b[0m \u001b[0mbayespsd\u001b[0m \u001b[0;32mimport\u001b[0m \u001b[0mLightcurve\u001b[0m\u001b[0;34m,\u001b[0m \u001b[0mPowerSpectrum\u001b[0m\u001b[0;34m\u001b[0m\u001b[0m\n\u001b[0m",
      "\u001b[0;31mImportError\u001b[0m: No module named bayespsd"
     ]
    }
   ],
   "source": [
    "%matplotlib inline\n",
    "import matplotlib.pyplot as plt\n",
    "\n",
    "## this is just to make plots prettier\n",
    "## comment out if you don't have seaborn\n",
    "import seaborn as sns \n",
    "sns.set()\n",
    "########################################\n",
    "\n",
    "import numpy as np\n",
    "\n",
    "## this imports the relevant classes from the module\n",
    "from bayespsd import Lightcurve, PowerSpectrum\n"
   ]
  },
  {
   "cell_type": "code",
   "execution_count": 5,
   "metadata": {
    "collapsed": false
   },
   "outputs": [
    {
     "ename": "ImportError",
     "evalue": "No module named bayespsd",
     "output_type": "error",
     "traceback": [
      "\u001b[0;31m---------------------------------------------------------------------------\u001b[0m",
      "\u001b[0;31mImportError\u001b[0m                               Traceback (most recent call last)",
      "\u001b[0;32m<ipython-input-5-3f1a861f9a01>\u001b[0m in \u001b[0;36m<module>\u001b[0;34m()\u001b[0m\n\u001b[0;32m----> 1\u001b[0;31m \u001b[0;32mimport\u001b[0m \u001b[0mbayespsd\u001b[0m\u001b[0;34m\u001b[0m\u001b[0m\n\u001b[0m",
      "\u001b[0;31mImportError\u001b[0m: No module named bayespsd"
     ]
    }
   ],
   "source": []
  },
  {
   "cell_type": "code",
   "execution_count": null,
   "metadata": {
    "collapsed": true
   },
   "outputs": [],
   "source": []
  }
 ],
 "metadata": {
  "kernelspec": {
   "display_name": "Python 2",
   "language": "python",
   "name": "python2"
  },
  "language_info": {
   "codemirror_mode": {
    "name": "ipython",
    "version": 2
   },
   "file_extension": ".py",
   "mimetype": "text/x-python",
   "name": "python",
   "nbconvert_exporter": "python",
   "pygments_lexer": "ipython2",
   "version": "2.7.10"
  }
 },
 "nbformat": 4,
 "nbformat_minor": 0
}
